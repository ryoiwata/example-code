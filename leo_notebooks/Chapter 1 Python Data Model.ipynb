{
 "cells": [
  {
   "cell_type": "code",
   "execution_count": 1,
   "metadata": {},
   "outputs": [],
   "source": [
    "import collections"
   ]
  },
  {
   "cell_type": "markdown",
   "metadata": {},
   "source": [
    "# Names Tuples"
   ]
  },
  {
   "cell_type": "markdown",
   "metadata": {},
   "source": [
    "https://www.geeksforgeeks.org/namedtuple-in-python/\n",
    "- Like dictionaries they contain keys that are hashed to a particular value. But on contrary, it supports both access from key value and iteration, the functionality that dictionaries lack.\n",
    "- Classes of objects that are just attributes with no methods"
   ]
  },
  {
   "cell_type": "markdown",
   "metadata": {},
   "source": [
    "Operations on namedtuple() :\n",
    "\n",
    "Access Operations\n",
    "1. Access by index : The attribute values of namedtuple() are ordered and can be accessed using the index number unlike dictionaries which are not accessible by index.\n",
    "\n",
    "2. Access by keyname : Access by keyname is also allowed as in dictionaries.\n",
    "\n",
    "3. using getattr() :- This is yet another way to access the value by giving namedtuple and key value as its argument."
   ]
  },
  {
   "cell_type": "code",
   "execution_count": 2,
   "metadata": {},
   "outputs": [],
   "source": [
    "# Declaring namedtuple() \n",
    "manga = collections.namedtuple('Manga', [\"name\", \"genre\", \"author\"])"
   ]
  },
  {
   "cell_type": "code",
   "execution_count": 3,
   "metadata": {},
   "outputs": [],
   "source": [
    "#Adding Values\n",
    "big_sword_manga = manga(\"Berserk\", \"Shounen\", \"Kentaro Miura\")"
   ]
  },
  {
   "cell_type": "code",
   "execution_count": 4,
   "metadata": {},
   "outputs": [
    {
     "name": "stdout",
     "output_type": "stream",
     "text": [
      "Berserk\n"
     ]
    }
   ],
   "source": [
    "#Access using index\n",
    "print(big_sword_manga[0])"
   ]
  },
  {
   "cell_type": "code",
   "execution_count": 5,
   "metadata": {},
   "outputs": [
    {
     "name": "stdout",
     "output_type": "stream",
     "text": [
      "Shounen\n"
     ]
    }
   ],
   "source": [
    "#Access using name\n",
    "print(big_sword_manga.genre)"
   ]
  },
  {
   "cell_type": "code",
   "execution_count": 6,
   "metadata": {},
   "outputs": [
    {
     "data": {
      "text/plain": [
       "'Kentaro Miura'"
      ]
     },
     "execution_count": 6,
     "metadata": {},
     "output_type": "execute_result"
    }
   ],
   "source": [
    "#Access using getattr() #this is the same as the above, just different syntax\n",
    "getattr(big_sword_manga, \"author\")"
   ]
  },
  {
   "cell_type": "markdown",
   "metadata": {},
   "source": [
    "# A Pythonic Card Deck"
   ]
  },
  {
   "cell_type": "code",
   "execution_count": 7,
   "metadata": {},
   "outputs": [],
   "source": [
    "Card = collections.namedtuple('Card', ['rank', 'suit'])\n",
    "\n",
    "class FrenchDeck:\n",
    "    ranks = [str(n) for n in range(2, 11)] + list('JQKA')\n",
    "    suits = 'spades diamonds clubs hearts'.split()\n",
    "\n",
    "    def __init__(self):\n",
    "        self._cards = [Card(rank, suit) for suit in self.suits\n",
    "                                        for rank in self.ranks]\n",
    "\n",
    "    def __len__(self):\n",
    "        return len(self._cards)\n",
    "\n",
    "    def __getitem__(self, position):\n",
    "        return self._cards[position]"
   ]
  },
  {
   "cell_type": "code",
   "execution_count": 8,
   "metadata": {},
   "outputs": [],
   "source": [
    "deck = FrenchDeck()"
   ]
  },
  {
   "cell_type": "code",
   "execution_count": 9,
   "metadata": {},
   "outputs": [
    {
     "data": {
      "text/plain": [
       "52"
      ]
     },
     "execution_count": 9,
     "metadata": {},
     "output_type": "execute_result"
    }
   ],
   "source": [
    "#returns the length of the collection as defined in class\n",
    "len(deck)"
   ]
  },
  {
   "cell_type": "code",
   "execution_count": 10,
   "metadata": {},
   "outputs": [
    {
     "data": {
      "text/plain": [
       "Card(rank='2', suit='spades')"
      ]
     },
     "execution_count": 10,
     "metadata": {},
     "output_type": "execute_result"
    }
   ],
   "source": [
    "#returns the indexed item as defined by the getitem method\n",
    "deck[0]"
   ]
  },
  {
   "cell_type": "code",
   "execution_count": 11,
   "metadata": {},
   "outputs": [
    {
     "data": {
      "text/plain": [
       "Card(rank='A', suit='hearts')"
      ]
     },
     "execution_count": 11,
     "metadata": {},
     "output_type": "execute_result"
    }
   ],
   "source": [
    "deck[-1]"
   ]
  },
  {
   "cell_type": "markdown",
   "metadata": {},
   "source": [
    "- Using special methods allows us to use the Python standard library without having to reinvent the wheel\n",
    "- Which the rich functionality throughout"
   ]
  },
  {
   "cell_type": "code",
   "execution_count": 12,
   "metadata": {},
   "outputs": [
    {
     "data": {
      "text/plain": [
       "[Card(rank='2', suit='spades'),\n",
       " Card(rank='3', suit='spades'),\n",
       " Card(rank='4', suit='spades'),\n",
       " Card(rank='5', suit='spades'),\n",
       " Card(rank='6', suit='spades'),\n",
       " Card(rank='7', suit='spades'),\n",
       " Card(rank='8', suit='spades')]"
      ]
     },
     "execution_count": 12,
     "metadata": {},
     "output_type": "execute_result"
    }
   ],
   "source": [
    "#Like all the functions of a list because of getitem\n",
    "deck[:7]"
   ]
  },
  {
   "cell_type": "code",
   "execution_count": 13,
   "metadata": {
    "scrolled": true
   },
   "outputs": [
    {
     "name": "stdout",
     "output_type": "stream",
     "text": [
      "Card(rank='2', suit='spades')\n",
      "Card(rank='3', suit='spades')\n",
      "Card(rank='4', suit='spades')\n",
      "Card(rank='5', suit='spades')\n",
      "Card(rank='6', suit='spades')\n",
      "Card(rank='7', suit='spades')\n",
      "Card(rank='8', suit='spades')\n",
      "Card(rank='9', suit='spades')\n",
      "Card(rank='10', suit='spades')\n",
      "Card(rank='J', suit='spades')\n",
      "Card(rank='Q', suit='spades')\n",
      "Card(rank='K', suit='spades')\n",
      "Card(rank='A', suit='spades')\n",
      "Card(rank='2', suit='diamonds')\n",
      "Card(rank='3', suit='diamonds')\n",
      "Card(rank='4', suit='diamonds')\n",
      "Card(rank='5', suit='diamonds')\n",
      "Card(rank='6', suit='diamonds')\n",
      "Card(rank='7', suit='diamonds')\n",
      "Card(rank='8', suit='diamonds')\n",
      "Card(rank='9', suit='diamonds')\n",
      "Card(rank='10', suit='diamonds')\n",
      "Card(rank='J', suit='diamonds')\n",
      "Card(rank='Q', suit='diamonds')\n",
      "Card(rank='K', suit='diamonds')\n",
      "Card(rank='A', suit='diamonds')\n",
      "Card(rank='2', suit='clubs')\n",
      "Card(rank='3', suit='clubs')\n",
      "Card(rank='4', suit='clubs')\n",
      "Card(rank='5', suit='clubs')\n",
      "Card(rank='6', suit='clubs')\n",
      "Card(rank='7', suit='clubs')\n",
      "Card(rank='8', suit='clubs')\n",
      "Card(rank='9', suit='clubs')\n",
      "Card(rank='10', suit='clubs')\n",
      "Card(rank='J', suit='clubs')\n",
      "Card(rank='Q', suit='clubs')\n",
      "Card(rank='K', suit='clubs')\n",
      "Card(rank='A', suit='clubs')\n",
      "Card(rank='2', suit='hearts')\n",
      "Card(rank='3', suit='hearts')\n",
      "Card(rank='4', suit='hearts')\n",
      "Card(rank='5', suit='hearts')\n",
      "Card(rank='6', suit='hearts')\n",
      "Card(rank='7', suit='hearts')\n",
      "Card(rank='8', suit='hearts')\n",
      "Card(rank='9', suit='hearts')\n",
      "Card(rank='10', suit='hearts')\n",
      "Card(rank='J', suit='hearts')\n",
      "Card(rank='Q', suit='hearts')\n",
      "Card(rank='K', suit='hearts')\n",
      "Card(rank='A', suit='hearts')\n"
     ]
    }
   ],
   "source": [
    "#iterating like a list\n",
    "for card in deck: \n",
    "    print(card)"
   ]
  },
  {
   "cell_type": "code",
   "execution_count": 14,
   "metadata": {},
   "outputs": [
    {
     "data": {
      "text/plain": [
       "True"
      ]
     },
     "execution_count": 14,
     "metadata": {},
     "output_type": "execute_result"
    }
   ],
   "source": [
    "#Contains works in deck because it's iterable\n",
    "Card(\"10\", \"clubs\") in deck"
   ]
  },
  {
   "cell_type": "code",
   "execution_count": 15,
   "metadata": {},
   "outputs": [
    {
     "data": {
      "text/plain": [
       "False"
      ]
     },
     "execution_count": 15,
     "metadata": {},
     "output_type": "execute_result"
    }
   ],
   "source": [
    "Card(\"666\", \"Billie Eillish\") in deck"
   ]
  },
  {
   "cell_type": "markdown",
   "metadata": {},
   "source": [
    "Sorting Cards"
   ]
  },
  {
   "cell_type": "code",
   "execution_count": 16,
   "metadata": {},
   "outputs": [],
   "source": [
    "#Ordering by suit value first\n",
    "suit_values = {\"spades\": 3, \"hearts\": 2, \"diamonds\": 1, \"clubs\": 0}"
   ]
  },
  {
   "cell_type": "code",
   "execution_count": 17,
   "metadata": {},
   "outputs": [],
   "source": [
    "# value is based off of the suit value times the rank value\n",
    "def spades_high(card):\n",
    "    #indexing from the ranks list (numbers and JQKA)\n",
    "    rank_value = FrenchDeck.ranks.index(card.rank)\n",
    "    \n",
    "    return rank_value * len(suit_values) + suit_values[card.suit]"
   ]
  },
  {
   "cell_type": "code",
   "execution_count": 18,
   "metadata": {},
   "outputs": [
    {
     "name": "stdout",
     "output_type": "stream",
     "text": [
      "value:  0\n",
      "Card(rank='2', suit='clubs')\n",
      "value:  1\n",
      "Card(rank='2', suit='diamonds')\n",
      "value:  2\n",
      "Card(rank='2', suit='hearts')\n",
      "value:  3\n",
      "Card(rank='2', suit='spades')\n",
      "value:  4\n",
      "Card(rank='3', suit='clubs')\n",
      "value:  5\n",
      "Card(rank='3', suit='diamonds')\n",
      "value:  6\n",
      "Card(rank='3', suit='hearts')\n",
      "value:  7\n",
      "Card(rank='3', suit='spades')\n",
      "value:  8\n",
      "Card(rank='4', suit='clubs')\n",
      "value:  9\n",
      "Card(rank='4', suit='diamonds')\n",
      "value:  10\n",
      "Card(rank='4', suit='hearts')\n",
      "value:  11\n",
      "Card(rank='4', suit='spades')\n",
      "value:  12\n",
      "Card(rank='5', suit='clubs')\n",
      "value:  13\n",
      "Card(rank='5', suit='diamonds')\n",
      "value:  14\n",
      "Card(rank='5', suit='hearts')\n",
      "value:  15\n",
      "Card(rank='5', suit='spades')\n",
      "value:  16\n",
      "Card(rank='6', suit='clubs')\n",
      "value:  17\n",
      "Card(rank='6', suit='diamonds')\n",
      "value:  18\n",
      "Card(rank='6', suit='hearts')\n",
      "value:  19\n",
      "Card(rank='6', suit='spades')\n",
      "value:  20\n",
      "Card(rank='7', suit='clubs')\n",
      "value:  21\n",
      "Card(rank='7', suit='diamonds')\n",
      "value:  22\n",
      "Card(rank='7', suit='hearts')\n",
      "value:  23\n",
      "Card(rank='7', suit='spades')\n",
      "value:  24\n",
      "Card(rank='8', suit='clubs')\n",
      "value:  25\n",
      "Card(rank='8', suit='diamonds')\n",
      "value:  26\n",
      "Card(rank='8', suit='hearts')\n",
      "value:  27\n",
      "Card(rank='8', suit='spades')\n",
      "value:  28\n",
      "Card(rank='9', suit='clubs')\n",
      "value:  29\n",
      "Card(rank='9', suit='diamonds')\n",
      "value:  30\n",
      "Card(rank='9', suit='hearts')\n",
      "value:  31\n",
      "Card(rank='9', suit='spades')\n",
      "value:  32\n",
      "Card(rank='10', suit='clubs')\n",
      "value:  33\n",
      "Card(rank='10', suit='diamonds')\n",
      "value:  34\n",
      "Card(rank='10', suit='hearts')\n",
      "value:  35\n",
      "Card(rank='10', suit='spades')\n",
      "value:  36\n",
      "Card(rank='J', suit='clubs')\n",
      "value:  37\n",
      "Card(rank='J', suit='diamonds')\n",
      "value:  38\n",
      "Card(rank='J', suit='hearts')\n",
      "value:  39\n",
      "Card(rank='J', suit='spades')\n",
      "value:  40\n",
      "Card(rank='Q', suit='clubs')\n",
      "value:  41\n",
      "Card(rank='Q', suit='diamonds')\n",
      "value:  42\n",
      "Card(rank='Q', suit='hearts')\n",
      "value:  43\n",
      "Card(rank='Q', suit='spades')\n",
      "value:  44\n",
      "Card(rank='K', suit='clubs')\n",
      "value:  45\n",
      "Card(rank='K', suit='diamonds')\n",
      "value:  46\n",
      "Card(rank='K', suit='hearts')\n",
      "value:  47\n",
      "Card(rank='K', suit='spades')\n",
      "value:  48\n",
      "Card(rank='A', suit='clubs')\n",
      "value:  49\n",
      "Card(rank='A', suit='diamonds')\n",
      "value:  50\n",
      "Card(rank='A', suit='hearts')\n",
      "value:  51\n",
      "Card(rank='A', suit='spades')\n"
     ]
    }
   ],
   "source": [
    "#cards sorted by the function spades high\n",
    "for card in sorted(deck, key= spades_high):\n",
    "    print(\"value: \", spades_high(card))\n",
    "    print(card)"
   ]
  },
  {
   "cell_type": "markdown",
   "metadata": {},
   "source": [
    "- By using __len__ and __getitem__ dunder methods, the deck behaves like a Python sequence\n",
    "- As a python sequence, it can iterate, slice, and use list methods of the self._cards"
   ]
  },
  {
   "cell_type": "markdown",
   "metadata": {},
   "source": [
    "# How Special Methods Are Used"
   ]
  },
  {
   "cell_type": "code",
   "execution_count": null,
   "metadata": {},
   "outputs": [],
   "source": []
  }
 ],
 "metadata": {
  "kernelspec": {
   "display_name": "Python 3",
   "language": "python",
   "name": "python3"
  },
  "language_info": {
   "codemirror_mode": {
    "name": "ipython",
    "version": 3
   },
   "file_extension": ".py",
   "mimetype": "text/x-python",
   "name": "python",
   "nbconvert_exporter": "python",
   "pygments_lexer": "ipython3",
   "version": "3.7.0"
  }
 },
 "nbformat": 4,
 "nbformat_minor": 2
}
